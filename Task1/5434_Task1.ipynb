{
  "nbformat": 4,
  "nbformat_minor": 0,
  "metadata": {
    "colab": {
      "provenance": []
    },
    "kernelspec": {
      "name": "python3",
      "display_name": "Python 3"
    },
    "language_info": {
      "name": "python"
    }
  },
  "cells": [
    {
      "cell_type": "code",
      "source": [
        "import pandas as pd\n",
        "import numpy as np"
      ],
      "metadata": {
        "id": "qOea8Z6rERJy"
      },
      "execution_count": 22,
      "outputs": []
    },
    {
      "cell_type": "code",
      "source": [
        "data=pd.read_csv('/content/sample_data/Train_Data.csv')\n",
        "data['key']=data.index"
      ],
      "metadata": {
        "id": "-UatDJvctvCO"
      },
      "execution_count": 23,
      "outputs": []
    },
    {
      "cell_type": "code",
      "source": [
        "column_set=[\n",
        "    'key',\n",
        "    'residence space',\n",
        "    'building space',\n",
        "    'unit price of residence space',\n",
        "    'unit price of building space',\n",
        "    'exchange rate',\n",
        "]"
      ],
      "metadata": {
        "id": "GVNO1sILt0b2"
      },
      "execution_count": 24,
      "outputs": []
    },
    {
      "cell_type": "code",
      "source": [
        "input_list=np.array(data[column_set]).tolist()"
      ],
      "metadata": {
        "id": "K2KbrriEfJTy"
      },
      "execution_count": 25,
      "outputs": []
    },
    {
      "cell_type": "code",
      "execution_count": 26,
      "metadata": {
        "id": "1QcbB-bO_jQW"
      },
      "outputs": [],
      "source": [
        "def map(input_list):\n",
        "  # 5 mappers\n",
        "  # input is the table\n",
        "  # return key-value: [1,['Residence space','Building space','Unit price of residence space','Unit price of building space','exchange rate']]\n",
        "  key_value_list=[]\n",
        "  for tuple in input_list:\n",
        "    key_value=[]\n",
        "    key=tuple[0]\n",
        "    value=[tuple[1],tuple[2],tuple[3],tuple[4],tuple[5]]\n",
        "    key_value.append(key)\n",
        "    key_value.append(value)\n",
        "    key_value_list.append(key_value)\n",
        "  return key_value_list"
      ]
    },
    {
      "cell_type": "code",
      "source": [
        "def reduce(key_value_list):\n",
        "  #key_value_list:[1,['Residence space','Building space','Unit price of residence space','Unit price of building space,'exchage rate']]\n",
        "  total_cost_list=[]\n",
        "  for tuple in key_value_list:\n",
        "    if tuple[0] < len(key_value_list)/2:\n",
        "      total_cost=round((tuple[1][0]*tuple[1][2]+tuple[1][1]*tuple[1][3])*tuple[1][4])\n",
        "      total_cost_list.append(total_cost)\n",
        "    else:\n",
        "      total_cost=round((tuple[1][0]*tuple[1][2]+tuple[1][1]*tuple[1][3])*tuple[1][4])\n",
        "      total_cost_list.append(total_cost)\n",
        "  return total_cost_list        "
      ],
      "metadata": {
        "id": "c7oATkTvBBnU"
      },
      "execution_count": 27,
      "outputs": []
    },
    {
      "cell_type": "code",
      "source": [
        "total_cost_list=reduce(map(input_list))"
      ],
      "metadata": {
        "id": "qHvH-UmFr2vP"
      },
      "execution_count": 28,
      "outputs": []
    },
    {
      "cell_type": "code",
      "source": [
        "data['total cost']=total_cost_list"
      ],
      "metadata": {
        "id": "kxtZxaxrr6VY"
      },
      "execution_count": 29,
      "outputs": []
    },
    {
      "cell_type": "code",
      "source": [
        "data.to_csv('train_data')"
      ],
      "metadata": {
        "id": "zhwdWx2q0CrU"
      },
      "execution_count": 30,
      "outputs": []
    },
    {
      "cell_type": "code",
      "source": [],
      "metadata": {
        "id": "U_0gQ4blX0s6"
      },
      "execution_count": null,
      "outputs": []
    }
  ]
}